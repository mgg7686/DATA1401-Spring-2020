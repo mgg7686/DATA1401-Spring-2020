{
 "cells": [
  {
   "cell_type": "markdown",
   "metadata": {
    "colab_type": "text",
    "id": "0Ze0pZV9BXYz"
   },
   "source": [
    "# Mid-term Exam\n",
    "\n",
    "[![Open In Colab](https://colab.research.google.com/assets/colab-badge.svg)](https://colab.research.google.com/github//afarbin/DATA1401-Spring-2020/blob/master/Exams/Mid-term/Exam.ipynb)\n",
    "\n",
    "Add cells to this notebook as you need for your solutions and your test of your solutions."
   ]
  },
  {
   "cell_type": "markdown",
   "metadata": {
    "colab_type": "text",
    "id": "g1xwVeCuBXY1"
   },
   "source": [
    "1. Write a function `first_alphabetically(lst)` that takes a list `lst` of strings and returns the string that is alphabetically first. For example, calling your function with the list of states:"
   ]
  },
  {
   "cell_type": "code",
   "execution_count": 1,
   "metadata": {
    "colab": {},
    "colab_type": "code",
    "id": "-ngovlnMBXY3"
   },
   "outputs": [],
   "source": [
    "states=['Mississippi', 'Maryland', 'Delaware', 'Connecticut', 'Virginia', 'Utah', 'Kansas',\n",
    "        'Wyoming', 'Indiana', 'Louisiana', 'Missouri', 'Illinois', 'Minnesota', 'Vermont', \n",
    "        'New Mexico', 'North Dakota', 'Wisconsin', 'Tennessee', 'New York', 'Oklahoma', \n",
    "        'Colorado', 'Pennsylvania', 'West Virginia', 'Alabama', 'Montana', 'Texas', \n",
    "        'Washington', 'Michigan', 'New Hampshire', 'Arkansas', 'Hawaii', 'Iowa', \n",
    "        'Idaho', 'Kentucky', 'Ohio', 'Nebraska', 'Alaska', 'Oregon', 'South Dakota', \n",
    "        'New Jersey', 'Florida', 'Georgia', 'Rhode Island', 'Arizona', 'Maine', \n",
    "        'South Carolina', 'California', 'Nevada', 'Massachusetts', 'North Carolina']"
   ]
  },
  {
   "cell_type": "markdown",
   "metadata": {
    "colab_type": "text",
    "id": "cfz2-Xa-BXZE"
   },
   "source": [
    "should return the string `\"Alabama\"`. Note that you can compare strings:"
   ]
  },
  {
   "cell_type": "code",
   "execution_count": 2,
   "metadata": {
    "colab": {},
    "colab_type": "code",
    "id": "T1SP9FaTBXZF"
   },
   "outputs": [
    {
     "name": "stdout",
     "output_type": "stream",
     "text": [
      "False\n",
      "True\n",
      "False\n",
      "True\n"
     ]
    }
   ],
   "source": [
    "print(\"A\">\"B\")\n",
    "print(\"B\">\"A\")\n",
    "print(\"A\">\"a\")\n",
    "print(\"bca\">\"bbc\")"
   ]
  },
  {
   "cell_type": "code",
   "execution_count": 3,
   "metadata": {},
   "outputs": [],
   "source": [
    "def first_alphabetically(lst):\n",
    "    min_val=states[0]\n",
    "    min_index=0\n",
    "    for i,val in enumerate(lst):\n",
    "        if val<min_val:\n",
    "            min_val=val\n",
    "            min_index=i\n",
    "    return min_val"
   ]
  },
  {
   "cell_type": "code",
   "execution_count": 4,
   "metadata": {},
   "outputs": [
    {
     "data": {
      "text/plain": [
       "'Alabama'"
      ]
     },
     "execution_count": 4,
     "metadata": {},
     "output_type": "execute_result"
    }
   ],
   "source": [
    "first_alphabetically(states)"
   ]
  },
  {
   "cell_type": "markdown",
   "metadata": {
    "colab_type": "text",
    "id": "RG_84uz2BXZM"
   },
   "source": [
    "Make sure your implementation isn't case sensitive. Do not use python's built-in `min`, `max`, `sort` or any other sort function you find."
   ]
  },
  {
   "cell_type": "markdown",
   "metadata": {
    "colab_type": "text",
    "id": "_L3ne0gMBXZO"
   },
   "source": [
    "2. Write a function `arg_first_alphabetically(lst)`, which does the same thing as in exercise 1 but returns the index of the first string alphabetically."
   ]
  },
  {
   "cell_type": "code",
   "execution_count": 5,
   "metadata": {},
   "outputs": [
    {
     "data": {
      "text/plain": [
       "23"
      ]
     },
     "execution_count": 5,
     "metadata": {},
     "output_type": "execute_result"
    }
   ],
   "source": [
    "def first_alphabetically(lst):\n",
    "    min_val=states[0]\n",
    "    min_index=0\n",
    "    for i,val in enumerate(lst):\n",
    "        if val<min_val:\n",
    "            min_val=val\n",
    "            min_index=i\n",
    "    return min_index\n",
    "\n",
    "first_alphabetically(states)"
   ]
  },
  {
   "cell_type": "markdown",
   "metadata": {
    "colab_type": "text",
    "id": "i72ZFEEuBXZP"
   },
   "source": [
    "3. Use your result in question 2 to implement a function `arg_sort_alphabetically(lst)` that returns a list that is alphabetically sorted. Sorting can be accomplished by successively applying the function in question 1 and removing the first element alphabetically. You can remove an element from a list using `pop()`. Make sure your implementation isn't case sensitive. Do not use python's built-in `min`, `max`, `sort` or any other sort function you find."
   ]
  },
  {
   "cell_type": "code",
   "execution_count": 6,
   "metadata": {},
   "outputs": [
    {
     "data": {
      "text/plain": [
       "['Alabama',\n",
       " 'Alaska',\n",
       " 'Arizona',\n",
       " 'Arkansas',\n",
       " 'California',\n",
       " 'Colorado',\n",
       " 'Connecticut',\n",
       " 'Delaware',\n",
       " 'Florida',\n",
       " 'Georgia',\n",
       " 'Hawaii',\n",
       " 'Idaho',\n",
       " 'Illinois',\n",
       " 'Indiana',\n",
       " 'Iowa',\n",
       " 'Kansas',\n",
       " 'Kentucky',\n",
       " 'Louisiana',\n",
       " 'Maine',\n",
       " 'Maryland',\n",
       " 'Massachusetts',\n",
       " 'Michigan',\n",
       " 'Minnesota',\n",
       " 'Mississippi',\n",
       " 'Missouri',\n",
       " 'Montana',\n",
       " 'Nebraska',\n",
       " 'Nevada',\n",
       " 'New Hampshire',\n",
       " 'New Jersey',\n",
       " 'New Mexico',\n",
       " 'New York',\n",
       " 'North Carolina',\n",
       " 'North Dakota',\n",
       " 'Ohio',\n",
       " 'Oklahoma',\n",
       " 'Oregon',\n",
       " 'Pennsylvania',\n",
       " 'Rhode Island',\n",
       " 'South Carolina',\n",
       " 'South Dakota',\n",
       " 'Tennessee',\n",
       " 'Texas',\n",
       " 'Utah',\n",
       " 'Vermont',\n",
       " 'Virginia',\n",
       " 'Washington',\n",
       " 'West Virginia',\n",
       " 'Wisconsin',\n",
       " 'Wyoming']"
      ]
     },
     "execution_count": 6,
     "metadata": {},
     "output_type": "execute_result"
    }
   ],
   "source": [
    "def arg_sort_alphabetically(lst):\n",
    "    sorted_list = []\n",
    "    \n",
    "    while len(lst)>0:\n",
    "        first_state = (first_alphabetically(lst))\n",
    "        sorted_list.append(lst[first_state])\n",
    "        lst.pop(first_state)\n",
    "    return (sorted_list)\n",
    "\n",
    "arg_sort_alphabetically(states)"
   ]
  },
  {
   "cell_type": "markdown",
   "metadata": {
    "colab_type": "text",
    "id": "F6v_LqY3BXZP"
   },
   "source": [
    "4. Implement a function `outer_product` that takes two one-dimensional lists of numbers and returns the two-dimensional outer product matrix defined as:\n",
    "\n",
    "\\begin{equation*}\n",
    "\\begin{pmatrix} x_1\\\\x_2\\\\ \\vdots \\\\x_m \\end{pmatrix} \\begin{pmatrix} y_1&y_2& \\dots &y_n\\end{pmatrix} =\n",
    "\\begin{pmatrix}\n",
    "x_1y_1 & x_1y_2 & \\dots & x_1y_n\\\\\n",
    "x_2y_1 & x_2y_2 & \\dots & x_2y_n\\\\\n",
    "\\vdots & \\vdots & \\ddots & \\vdots \\\\\n",
    "x_my_1 & x_my_2 & \\dots & x_my_n\n",
    "\\end{pmatrix}\n",
    "\\end{equation*}\n",
    "\n",
    "In other words the elements of matrix C which is the outer product of A and B are $c_{ij} = a_i b_j$."
   ]
  },
  {
   "cell_type": "code",
   "execution_count": 25,
   "metadata": {},
   "outputs": [],
   "source": [
    "def is_matrix(M):\n",
    "    if isinstance(M,list):\n",
    "        row_length=len(M[0])\n",
    "        for row in M:\n",
    "            if not row_length==len(row):\n",
    "                return False\n",
    "    else:\n",
    "        False\n",
    "    return True\n",
    "def matrix_shape(M):\n",
    "    if is_matrix(M):\n",
    "        m=len(M)\n",
    "        n=len(M[0])\n",
    "        return m,n\n",
    "    else:\n",
    "        0,0\n",
    "        \n",
    "def zero_matrix(m,n):\n",
    "    out=list()\n",
    "    for i in range(m):\n",
    "        row=list()\n",
    "        for j in range(n):\n",
    "            row.append(0.)\n",
    "        out.append(row)\n",
    "    return out\n",
    "\n",
    "def outer_product(M,N):\n",
    "    m_a,n_a=matrix_shape(M)\n",
    "    m_b,n_b=matrix_shape(M)\n",
    "    out_matrix=zero_matrix(m_a,n_b)\n",
    "    \n",
    "    for i in range(len(M)):\n",
    "        for j in range(len(N)):\n",
    "                out_matrix[i][j]+= M[i][0]*N[0][j]\n",
    "    return out_matrix"
   ]
  },
  {
   "cell_type": "code",
   "execution_count": 26,
   "metadata": {},
   "outputs": [
    {
     "data": {
      "text/plain": [
       "[[6.0, 0.0, 0.0]]"
      ]
     },
     "execution_count": 26,
     "metadata": {},
     "output_type": "execute_result"
    }
   ],
   "source": [
    "A = [[3,8,2]]\n",
    "B = [[2,2,2]]\n",
    "outer_product(A,B)"
   ]
  },
  {
   "cell_type": "markdown",
   "metadata": {
    "colab_type": "text",
    "id": "GlckYHpZBXZQ"
   },
   "source": [
    "5. Implement a function `cumulative_sum(lst)` that takes a list of numbers and returns a list of same size where the element `i` is the sum of the elements `0` to `i` of the input list. For example given `[1,2,3]`, you should return [1,3,6]."
   ]
  },
  {
   "cell_type": "code",
   "execution_count": null,
   "metadata": {},
   "outputs": [],
   "source": [
    "def cumulative_sum(lst):\n",
    "    new_list = []\n",
    "    cumsum = 0\n",
    "    for element in lst:\n",
    "        cumsum += element\n",
    "        new_list.append(cumsum)\n",
    "    return new_list"
   ]
  },
  {
   "cell_type": "code",
   "execution_count": null,
   "metadata": {},
   "outputs": [],
   "source": [
    "cumulative_sum([1,2,3])"
   ]
  },
  {
   "cell_type": "markdown",
   "metadata": {
    "colab_type": "text",
    "id": "WD90XwhxBXZR"
   },
   "source": [
    "6. Imagine you have a normal distributed random variable `x`. For example `x` can be grades on this exam. Using the normal distribution generator and histogram functions from lecture (provided below) and `cumulative_sum` from previous question to compute what is the value of $x_{90}$ in $\\sigma$ such that 90% of the values $x$ are below $x_{90}$. In other words:"
   ]
  },
  {
   "cell_type": "markdown",
   "metadata": {
    "colab_type": "text",
    "id": "VsokLd0RBXZT"
   },
   "source": [
    "$$\n",
    "\\int_{-\\infty}^{x_{90}} N(x;\\mu=0,\\sigma=1) dx = 0.9\n",
    "$$"
   ]
  },
  {
   "cell_type": "code",
   "execution_count": null,
   "metadata": {
    "colab": {},
    "colab_type": "code",
    "id": "XQ9oLEYXBXZU"
   },
   "outputs": [],
   "source": [
    "import math\n",
    "import random\n",
    "import numpy as np\n",
    "\n",
    "def arange(x_min,x_max,steps=10):\n",
    "    step_size=(x_max-x_min)/steps\n",
    "    x=x_min\n",
    "    out = list()\n",
    "    for i in range(steps):\n",
    "        out.append(x)\n",
    "        x+=step_size\n",
    "    return out\n",
    "\n",
    "def generate_normal(N,m=0,s=1):\n",
    "    out = list() \n",
    "    \n",
    "    while len(out)<N:\n",
    "#    for _ in range(int(float(N)/2)+1):\n",
    "        U1=random.random()\n",
    "        U2=random.random()\n",
    "    \n",
    "        out.append(s*math.sqrt(-2*math.log(U1))*math.cos(2*math.pi*U2)+m)\n",
    "        out.append(s*math.sqrt(-2*math.log(U1))*math.sin(2*math.pi*U2)+m)\n",
    "\n",
    "    return out[:N]\n",
    "\n",
    "def histogram(data, n_bins=10,x_min=None, x_max=None):\n",
    "    if x_min==None:\n",
    "        x_min=min(data)\n",
    "    if x_max==None:\n",
    "        x_max=max(data)\n",
    "        \n",
    "    bin_edges = arange(x_min,x_max,n_bins)\n",
    "    bin_edges.append(x_max)\n",
    "\n",
    "    hist=[0]*n_bins\n",
    "    \n",
    "    for d in data:\n",
    "        for i in range(n_bins):\n",
    "            if d>=bin_edges[i] and d<bin_edges[i+1]:\n",
    "                hist[i]+=1\n",
    "                break\n",
    "                \n",
    "    return hist,bin_edges"
   ]
  },
  {
   "cell_type": "code",
   "execution_count": null,
   "metadata": {},
   "outputs": [],
   "source": [
    "cumulative_sum(histogram(generate_normal(20,90)))"
   ]
  },
  {
   "cell_type": "code",
   "execution_count": null,
   "metadata": {},
   "outputs": [],
   "source": []
  }
 ],
 "metadata": {
  "colab": {
   "name": "Exam.ipynb",
   "provenance": []
  },
  "kernelspec": {
   "display_name": "Python 3",
   "language": "python",
   "name": "python3"
  },
  "language_info": {
   "codemirror_mode": {
    "name": "ipython",
    "version": 3
   },
   "file_extension": ".py",
   "mimetype": "text/x-python",
   "name": "python",
   "nbconvert_exporter": "python",
   "pygments_lexer": "ipython3",
   "version": "3.7.6"
  }
 },
 "nbformat": 4,
 "nbformat_minor": 1
}
